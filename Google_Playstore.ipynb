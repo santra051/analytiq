{
  "nbformat": 4,
  "nbformat_minor": 0,
  "metadata": {
    "colab": {
      "provenance": [],
      "authorship_tag": "ABX9TyM/1AJ1LCs4nLSugHBIqRNt",
      "include_colab_link": true
    },
    "kernelspec": {
      "name": "python3",
      "display_name": "Python 3"
    },
    "language_info": {
      "name": "python"
    }
  },
  "cells": [
    {
      "cell_type": "markdown",
      "metadata": {
        "id": "view-in-github",
        "colab_type": "text"
      },
      "source": [
        "<a href=\"https://colab.research.google.com/github/santra051/analytiq/blob/main/Google_Playstore.ipynb\" target=\"_parent\"><img src=\"https://colab.research.google.com/assets/colab-badge.svg\" alt=\"Open In Colab\"/></a>"
      ]
    },
    {
      "cell_type": "code",
      "execution_count": null,
      "metadata": {
        "colab": {
          "base_uri": "https://localhost:8080/",
          "height": 573
        },
        "id": "x2qhtQn4dEsk",
        "outputId": "e2a4d4df-c978-4058-b5c6-cd654c2a2806"
      },
      "outputs": [
        {
          "output_type": "execute_result",
          "data": {
            "text/plain": [
              "                                                 App        Category  Rating  \\\n",
              "0     Photo Editor & Candy Camera & Grid & ScrapBook  ART_AND_DESIGN     4.1   \n",
              "1                                Coloring book moana  ART_AND_DESIGN     3.9   \n",
              "2  U Launcher Lite – FREE Live Cool Themes, Hide ...  ART_AND_DESIGN     4.7   \n",
              "3                              Sketch - Draw & Paint  ART_AND_DESIGN     4.5   \n",
              "4              Pixel Draw - Number Art Coloring Book  ART_AND_DESIGN     4.3   \n",
              "\n",
              "  Reviews  Size     Installs  Type Price Content Rating  \\\n",
              "0     159   19M      10,000+  Free     0       Everyone   \n",
              "1     967   14M     500,000+  Free     0       Everyone   \n",
              "2   87510  8.7M   5,000,000+  Free     0       Everyone   \n",
              "3  215644   25M  50,000,000+  Free     0           Teen   \n",
              "4     967  2.8M     100,000+  Free     0       Everyone   \n",
              "\n",
              "                      Genres      Last Updated         Current Ver  \\\n",
              "0               Art & Design   January 7, 2018               1.0.0   \n",
              "1  Art & Design;Pretend Play  January 15, 2018               2.0.0   \n",
              "2               Art & Design    August 1, 2018               1.2.4   \n",
              "3               Art & Design      June 8, 2018  Varies with device   \n",
              "4    Art & Design;Creativity     June 20, 2018                 1.1   \n",
              "\n",
              "    Android Ver  \n",
              "0  4.0.3 and up  \n",
              "1  4.0.3 and up  \n",
              "2  4.0.3 and up  \n",
              "3    4.2 and up  \n",
              "4    4.4 and up  "
            ],
            "text/html": [
              "\n",
              "  <div id=\"df-77e12c37-8df3-4dad-8c04-6f83e5bb5fcd\" class=\"colab-df-container\">\n",
              "    <div>\n",
              "<style scoped>\n",
              "    .dataframe tbody tr th:only-of-type {\n",
              "        vertical-align: middle;\n",
              "    }\n",
              "\n",
              "    .dataframe tbody tr th {\n",
              "        vertical-align: top;\n",
              "    }\n",
              "\n",
              "    .dataframe thead th {\n",
              "        text-align: right;\n",
              "    }\n",
              "</style>\n",
              "<table border=\"1\" class=\"dataframe\">\n",
              "  <thead>\n",
              "    <tr style=\"text-align: right;\">\n",
              "      <th></th>\n",
              "      <th>App</th>\n",
              "      <th>Category</th>\n",
              "      <th>Rating</th>\n",
              "      <th>Reviews</th>\n",
              "      <th>Size</th>\n",
              "      <th>Installs</th>\n",
              "      <th>Type</th>\n",
              "      <th>Price</th>\n",
              "      <th>Content Rating</th>\n",
              "      <th>Genres</th>\n",
              "      <th>Last Updated</th>\n",
              "      <th>Current Ver</th>\n",
              "      <th>Android Ver</th>\n",
              "    </tr>\n",
              "  </thead>\n",
              "  <tbody>\n",
              "    <tr>\n",
              "      <th>0</th>\n",
              "      <td>Photo Editor &amp; Candy Camera &amp; Grid &amp; ScrapBook</td>\n",
              "      <td>ART_AND_DESIGN</td>\n",
              "      <td>4.1</td>\n",
              "      <td>159</td>\n",
              "      <td>19M</td>\n",
              "      <td>10,000+</td>\n",
              "      <td>Free</td>\n",
              "      <td>0</td>\n",
              "      <td>Everyone</td>\n",
              "      <td>Art &amp; Design</td>\n",
              "      <td>January 7, 2018</td>\n",
              "      <td>1.0.0</td>\n",
              "      <td>4.0.3 and up</td>\n",
              "    </tr>\n",
              "    <tr>\n",
              "      <th>1</th>\n",
              "      <td>Coloring book moana</td>\n",
              "      <td>ART_AND_DESIGN</td>\n",
              "      <td>3.9</td>\n",
              "      <td>967</td>\n",
              "      <td>14M</td>\n",
              "      <td>500,000+</td>\n",
              "      <td>Free</td>\n",
              "      <td>0</td>\n",
              "      <td>Everyone</td>\n",
              "      <td>Art &amp; Design;Pretend Play</td>\n",
              "      <td>January 15, 2018</td>\n",
              "      <td>2.0.0</td>\n",
              "      <td>4.0.3 and up</td>\n",
              "    </tr>\n",
              "    <tr>\n",
              "      <th>2</th>\n",
              "      <td>U Launcher Lite – FREE Live Cool Themes, Hide ...</td>\n",
              "      <td>ART_AND_DESIGN</td>\n",
              "      <td>4.7</td>\n",
              "      <td>87510</td>\n",
              "      <td>8.7M</td>\n",
              "      <td>5,000,000+</td>\n",
              "      <td>Free</td>\n",
              "      <td>0</td>\n",
              "      <td>Everyone</td>\n",
              "      <td>Art &amp; Design</td>\n",
              "      <td>August 1, 2018</td>\n",
              "      <td>1.2.4</td>\n",
              "      <td>4.0.3 and up</td>\n",
              "    </tr>\n",
              "    <tr>\n",
              "      <th>3</th>\n",
              "      <td>Sketch - Draw &amp; Paint</td>\n",
              "      <td>ART_AND_DESIGN</td>\n",
              "      <td>4.5</td>\n",
              "      <td>215644</td>\n",
              "      <td>25M</td>\n",
              "      <td>50,000,000+</td>\n",
              "      <td>Free</td>\n",
              "      <td>0</td>\n",
              "      <td>Teen</td>\n",
              "      <td>Art &amp; Design</td>\n",
              "      <td>June 8, 2018</td>\n",
              "      <td>Varies with device</td>\n",
              "      <td>4.2 and up</td>\n",
              "    </tr>\n",
              "    <tr>\n",
              "      <th>4</th>\n",
              "      <td>Pixel Draw - Number Art Coloring Book</td>\n",
              "      <td>ART_AND_DESIGN</td>\n",
              "      <td>4.3</td>\n",
              "      <td>967</td>\n",
              "      <td>2.8M</td>\n",
              "      <td>100,000+</td>\n",
              "      <td>Free</td>\n",
              "      <td>0</td>\n",
              "      <td>Everyone</td>\n",
              "      <td>Art &amp; Design;Creativity</td>\n",
              "      <td>June 20, 2018</td>\n",
              "      <td>1.1</td>\n",
              "      <td>4.4 and up</td>\n",
              "    </tr>\n",
              "  </tbody>\n",
              "</table>\n",
              "</div>\n",
              "    <div class=\"colab-df-buttons\">\n",
              "\n",
              "  <div class=\"colab-df-container\">\n",
              "    <button class=\"colab-df-convert\" onclick=\"convertToInteractive('df-77e12c37-8df3-4dad-8c04-6f83e5bb5fcd')\"\n",
              "            title=\"Convert this dataframe to an interactive table.\"\n",
              "            style=\"display:none;\">\n",
              "\n",
              "  <svg xmlns=\"http://www.w3.org/2000/svg\" height=\"24px\" viewBox=\"0 -960 960 960\">\n",
              "    <path d=\"M120-120v-720h720v720H120Zm60-500h600v-160H180v160Zm220 220h160v-160H400v160Zm0 220h160v-160H400v160ZM180-400h160v-160H180v160Zm440 0h160v-160H620v160ZM180-180h160v-160H180v160Zm440 0h160v-160H620v160Z\"/>\n",
              "  </svg>\n",
              "    </button>\n",
              "\n",
              "  <style>\n",
              "    .colab-df-container {\n",
              "      display:flex;\n",
              "      gap: 12px;\n",
              "    }\n",
              "\n",
              "    .colab-df-convert {\n",
              "      background-color: #E8F0FE;\n",
              "      border: none;\n",
              "      border-radius: 50%;\n",
              "      cursor: pointer;\n",
              "      display: none;\n",
              "      fill: #1967D2;\n",
              "      height: 32px;\n",
              "      padding: 0 0 0 0;\n",
              "      width: 32px;\n",
              "    }\n",
              "\n",
              "    .colab-df-convert:hover {\n",
              "      background-color: #E2EBFA;\n",
              "      box-shadow: 0px 1px 2px rgba(60, 64, 67, 0.3), 0px 1px 3px 1px rgba(60, 64, 67, 0.15);\n",
              "      fill: #174EA6;\n",
              "    }\n",
              "\n",
              "    .colab-df-buttons div {\n",
              "      margin-bottom: 4px;\n",
              "    }\n",
              "\n",
              "    [theme=dark] .colab-df-convert {\n",
              "      background-color: #3B4455;\n",
              "      fill: #D2E3FC;\n",
              "    }\n",
              "\n",
              "    [theme=dark] .colab-df-convert:hover {\n",
              "      background-color: #434B5C;\n",
              "      box-shadow: 0px 1px 3px 1px rgba(0, 0, 0, 0.15);\n",
              "      filter: drop-shadow(0px 1px 2px rgba(0, 0, 0, 0.3));\n",
              "      fill: #FFFFFF;\n",
              "    }\n",
              "  </style>\n",
              "\n",
              "    <script>\n",
              "      const buttonEl =\n",
              "        document.querySelector('#df-77e12c37-8df3-4dad-8c04-6f83e5bb5fcd button.colab-df-convert');\n",
              "      buttonEl.style.display =\n",
              "        google.colab.kernel.accessAllowed ? 'block' : 'none';\n",
              "\n",
              "      async function convertToInteractive(key) {\n",
              "        const element = document.querySelector('#df-77e12c37-8df3-4dad-8c04-6f83e5bb5fcd');\n",
              "        const dataTable =\n",
              "          await google.colab.kernel.invokeFunction('convertToInteractive',\n",
              "                                                    [key], {});\n",
              "        if (!dataTable) return;\n",
              "\n",
              "        const docLinkHtml = 'Like what you see? Visit the ' +\n",
              "          '<a target=\"_blank\" href=https://colab.research.google.com/notebooks/data_table.ipynb>data table notebook</a>'\n",
              "          + ' to learn more about interactive tables.';\n",
              "        element.innerHTML = '';\n",
              "        dataTable['output_type'] = 'display_data';\n",
              "        await google.colab.output.renderOutput(dataTable, element);\n",
              "        const docLink = document.createElement('div');\n",
              "        docLink.innerHTML = docLinkHtml;\n",
              "        element.appendChild(docLink);\n",
              "      }\n",
              "    </script>\n",
              "  </div>\n",
              "\n",
              "\n",
              "    <div id=\"df-8b39cc26-7264-4209-b376-db79a9734c3b\">\n",
              "      <button class=\"colab-df-quickchart\" onclick=\"quickchart('df-8b39cc26-7264-4209-b376-db79a9734c3b')\"\n",
              "                title=\"Suggest charts\"\n",
              "                style=\"display:none;\">\n",
              "\n",
              "<svg xmlns=\"http://www.w3.org/2000/svg\" height=\"24px\"viewBox=\"0 0 24 24\"\n",
              "     width=\"24px\">\n",
              "    <g>\n",
              "        <path d=\"M19 3H5c-1.1 0-2 .9-2 2v14c0 1.1.9 2 2 2h14c1.1 0 2-.9 2-2V5c0-1.1-.9-2-2-2zM9 17H7v-7h2v7zm4 0h-2V7h2v10zm4 0h-2v-4h2v4z\"/>\n",
              "    </g>\n",
              "</svg>\n",
              "      </button>\n",
              "\n",
              "<style>\n",
              "  .colab-df-quickchart {\n",
              "      --bg-color: #E8F0FE;\n",
              "      --fill-color: #1967D2;\n",
              "      --hover-bg-color: #E2EBFA;\n",
              "      --hover-fill-color: #174EA6;\n",
              "      --disabled-fill-color: #AAA;\n",
              "      --disabled-bg-color: #DDD;\n",
              "  }\n",
              "\n",
              "  [theme=dark] .colab-df-quickchart {\n",
              "      --bg-color: #3B4455;\n",
              "      --fill-color: #D2E3FC;\n",
              "      --hover-bg-color: #434B5C;\n",
              "      --hover-fill-color: #FFFFFF;\n",
              "      --disabled-bg-color: #3B4455;\n",
              "      --disabled-fill-color: #666;\n",
              "  }\n",
              "\n",
              "  .colab-df-quickchart {\n",
              "    background-color: var(--bg-color);\n",
              "    border: none;\n",
              "    border-radius: 50%;\n",
              "    cursor: pointer;\n",
              "    display: none;\n",
              "    fill: var(--fill-color);\n",
              "    height: 32px;\n",
              "    padding: 0;\n",
              "    width: 32px;\n",
              "  }\n",
              "\n",
              "  .colab-df-quickchart:hover {\n",
              "    background-color: var(--hover-bg-color);\n",
              "    box-shadow: 0 1px 2px rgba(60, 64, 67, 0.3), 0 1px 3px 1px rgba(60, 64, 67, 0.15);\n",
              "    fill: var(--button-hover-fill-color);\n",
              "  }\n",
              "\n",
              "  .colab-df-quickchart-complete:disabled,\n",
              "  .colab-df-quickchart-complete:disabled:hover {\n",
              "    background-color: var(--disabled-bg-color);\n",
              "    fill: var(--disabled-fill-color);\n",
              "    box-shadow: none;\n",
              "  }\n",
              "\n",
              "  .colab-df-spinner {\n",
              "    border: 2px solid var(--fill-color);\n",
              "    border-color: transparent;\n",
              "    border-bottom-color: var(--fill-color);\n",
              "    animation:\n",
              "      spin 1s steps(1) infinite;\n",
              "  }\n",
              "\n",
              "  @keyframes spin {\n",
              "    0% {\n",
              "      border-color: transparent;\n",
              "      border-bottom-color: var(--fill-color);\n",
              "      border-left-color: var(--fill-color);\n",
              "    }\n",
              "    20% {\n",
              "      border-color: transparent;\n",
              "      border-left-color: var(--fill-color);\n",
              "      border-top-color: var(--fill-color);\n",
              "    }\n",
              "    30% {\n",
              "      border-color: transparent;\n",
              "      border-left-color: var(--fill-color);\n",
              "      border-top-color: var(--fill-color);\n",
              "      border-right-color: var(--fill-color);\n",
              "    }\n",
              "    40% {\n",
              "      border-color: transparent;\n",
              "      border-right-color: var(--fill-color);\n",
              "      border-top-color: var(--fill-color);\n",
              "    }\n",
              "    60% {\n",
              "      border-color: transparent;\n",
              "      border-right-color: var(--fill-color);\n",
              "    }\n",
              "    80% {\n",
              "      border-color: transparent;\n",
              "      border-right-color: var(--fill-color);\n",
              "      border-bottom-color: var(--fill-color);\n",
              "    }\n",
              "    90% {\n",
              "      border-color: transparent;\n",
              "      border-bottom-color: var(--fill-color);\n",
              "    }\n",
              "  }\n",
              "</style>\n",
              "\n",
              "      <script>\n",
              "        async function quickchart(key) {\n",
              "          const quickchartButtonEl =\n",
              "            document.querySelector('#' + key + ' button');\n",
              "          quickchartButtonEl.disabled = true;  // To prevent multiple clicks.\n",
              "          quickchartButtonEl.classList.add('colab-df-spinner');\n",
              "          try {\n",
              "            const charts = await google.colab.kernel.invokeFunction(\n",
              "                'suggestCharts', [key], {});\n",
              "          } catch (error) {\n",
              "            console.error('Error during call to suggestCharts:', error);\n",
              "          }\n",
              "          quickchartButtonEl.classList.remove('colab-df-spinner');\n",
              "          quickchartButtonEl.classList.add('colab-df-quickchart-complete');\n",
              "        }\n",
              "        (() => {\n",
              "          let quickchartButtonEl =\n",
              "            document.querySelector('#df-8b39cc26-7264-4209-b376-db79a9734c3b button');\n",
              "          quickchartButtonEl.style.display =\n",
              "            google.colab.kernel.accessAllowed ? 'block' : 'none';\n",
              "        })();\n",
              "      </script>\n",
              "    </div>\n",
              "\n",
              "    </div>\n",
              "  </div>\n"
            ],
            "application/vnd.google.colaboratory.intrinsic+json": {
              "type": "dataframe",
              "variable_name": "data_a",
              "summary": "{\n  \"name\": \"data_a\",\n  \"rows\": 10841,\n  \"fields\": [\n    {\n      \"column\": \"App\",\n      \"properties\": {\n        \"dtype\": \"string\",\n        \"num_unique_values\": 9660,\n        \"samples\": [\n          \"Run R Script - Online Statistical Data Analysis\",\n          \"EURES - Your Job in Europe\",\n          \"Dog Licks Screen Wallpaper\"\n        ],\n        \"semantic_type\": \"\",\n        \"description\": \"\"\n      }\n    },\n    {\n      \"column\": \"Category\",\n      \"properties\": {\n        \"dtype\": \"category\",\n        \"num_unique_values\": 34,\n        \"samples\": [\n          \"LIBRARIES_AND_DEMO\",\n          \"MEDICAL\",\n          \"PRODUCTIVITY\"\n        ],\n        \"semantic_type\": \"\",\n        \"description\": \"\"\n      }\n    },\n    {\n      \"column\": \"Rating\",\n      \"properties\": {\n        \"dtype\": \"number\",\n        \"std\": 0.5374313031477594,\n        \"min\": 1.0,\n        \"max\": 19.0,\n        \"num_unique_values\": 40,\n        \"samples\": [\n          5.0,\n          3.4,\n          3.3\n        ],\n        \"semantic_type\": \"\",\n        \"description\": \"\"\n      }\n    },\n    {\n      \"column\": \"Reviews\",\n      \"properties\": {\n        \"dtype\": \"string\",\n        \"num_unique_values\": 6002,\n        \"samples\": [\n          \"66661\",\n          \"7479\",\n          \"8978\"\n        ],\n        \"semantic_type\": \"\",\n        \"description\": \"\"\n      }\n    },\n    {\n      \"column\": \"Size\",\n      \"properties\": {\n        \"dtype\": \"category\",\n        \"num_unique_values\": 462,\n        \"samples\": [\n          \"746k\",\n          \"9.4M\",\n          \"35M\"\n        ],\n        \"semantic_type\": \"\",\n        \"description\": \"\"\n      }\n    },\n    {\n      \"column\": \"Installs\",\n      \"properties\": {\n        \"dtype\": \"category\",\n        \"num_unique_values\": 22,\n        \"samples\": [\n          \"10,000+\",\n          \"50+\",\n          \"5,000+\"\n        ],\n        \"semantic_type\": \"\",\n        \"description\": \"\"\n      }\n    },\n    {\n      \"column\": \"Type\",\n      \"properties\": {\n        \"dtype\": \"category\",\n        \"num_unique_values\": 3,\n        \"samples\": [\n          \"Free\",\n          \"Paid\",\n          \"0\"\n        ],\n        \"semantic_type\": \"\",\n        \"description\": \"\"\n      }\n    },\n    {\n      \"column\": \"Price\",\n      \"properties\": {\n        \"dtype\": \"category\",\n        \"num_unique_values\": 93,\n        \"samples\": [\n          \"$17.99\",\n          \"$29.99\",\n          \"$37.99\"\n        ],\n        \"semantic_type\": \"\",\n        \"description\": \"\"\n      }\n    },\n    {\n      \"column\": \"Content Rating\",\n      \"properties\": {\n        \"dtype\": \"category\",\n        \"num_unique_values\": 6,\n        \"samples\": [\n          \"Everyone\",\n          \"Teen\",\n          \"Unrated\"\n        ],\n        \"semantic_type\": \"\",\n        \"description\": \"\"\n      }\n    },\n    {\n      \"column\": \"Genres\",\n      \"properties\": {\n        \"dtype\": \"category\",\n        \"num_unique_values\": 120,\n        \"samples\": [\n          \"Casual;Action & Adventure\",\n          \"Board\",\n          \"Auto & Vehicles\"\n        ],\n        \"semantic_type\": \"\",\n        \"description\": \"\"\n      }\n    },\n    {\n      \"column\": \"Last Updated\",\n      \"properties\": {\n        \"dtype\": \"category\",\n        \"num_unique_values\": 1378,\n        \"samples\": [\n          \"March 15, 2016\",\n          \"May 14, 2013\",\n          \"October 21, 2015\"\n        ],\n        \"semantic_type\": \"\",\n        \"description\": \"\"\n      }\n    },\n    {\n      \"column\": \"Current Ver\",\n      \"properties\": {\n        \"dtype\": \"category\",\n        \"num_unique_values\": 2832,\n        \"samples\": [\n          \"7.0.4.17908\",\n          \"1.2.5.4-11\",\n          \"2.5.7.1\"\n        ],\n        \"semantic_type\": \"\",\n        \"description\": \"\"\n      }\n    },\n    {\n      \"column\": \"Android Ver\",\n      \"properties\": {\n        \"dtype\": \"category\",\n        \"num_unique_values\": 33,\n        \"samples\": [\n          \"2.2 - 7.1.1\",\n          \"7.0 and up\",\n          \"3.1 and up\"\n        ],\n        \"semantic_type\": \"\",\n        \"description\": \"\"\n      }\n    }\n  ]\n}"
            }
          },
          "metadata": {},
          "execution_count": 3
        }
      ],
      "source": [
        "import pandas as pd\n",
        "data_a=pd.read_csv(\"googleplaystore.csv\")\n",
        "data_a.head()"
      ]
    },
    {
      "cell_type": "code",
      "source": [
        "data_b=pd.read_csv(\"googleplaystore_user_reviews.csv\")\n",
        "data_b.head()"
      ],
      "metadata": {
        "colab": {
          "base_uri": "https://localhost:8080/",
          "height": 379
        },
        "id": "CMmsiE3Dd5RK",
        "outputId": "823e0a29-92c5-4d8e-f74f-7c7a67b0168b"
      },
      "execution_count": null,
      "outputs": [
        {
          "output_type": "execute_result",
          "data": {
            "text/plain": [
              "                     App                                  Translated_Review  \\\n",
              "0  10 Best Foods for You  I like eat delicious food. That's I'm cooking ...   \n",
              "1  10 Best Foods for You    This help eating healthy exercise regular basis   \n",
              "2  10 Best Foods for You                                                NaN   \n",
              "3  10 Best Foods for You         Works great especially going grocery store   \n",
              "4  10 Best Foods for You                                       Best idea us   \n",
              "\n",
              "  Sentiment  Sentiment_Polarity  Sentiment_Subjectivity  \n",
              "0  Positive                1.00                0.533333  \n",
              "1  Positive                0.25                0.288462  \n",
              "2       NaN                 NaN                     NaN  \n",
              "3  Positive                0.40                0.875000  \n",
              "4  Positive                1.00                0.300000  "
            ],
            "text/html": [
              "\n",
              "  <div id=\"df-8f55904a-1aa0-4b80-a6a8-0e9eb60fd4e9\" class=\"colab-df-container\">\n",
              "    <div>\n",
              "<style scoped>\n",
              "    .dataframe tbody tr th:only-of-type {\n",
              "        vertical-align: middle;\n",
              "    }\n",
              "\n",
              "    .dataframe tbody tr th {\n",
              "        vertical-align: top;\n",
              "    }\n",
              "\n",
              "    .dataframe thead th {\n",
              "        text-align: right;\n",
              "    }\n",
              "</style>\n",
              "<table border=\"1\" class=\"dataframe\">\n",
              "  <thead>\n",
              "    <tr style=\"text-align: right;\">\n",
              "      <th></th>\n",
              "      <th>App</th>\n",
              "      <th>Translated_Review</th>\n",
              "      <th>Sentiment</th>\n",
              "      <th>Sentiment_Polarity</th>\n",
              "      <th>Sentiment_Subjectivity</th>\n",
              "    </tr>\n",
              "  </thead>\n",
              "  <tbody>\n",
              "    <tr>\n",
              "      <th>0</th>\n",
              "      <td>10 Best Foods for You</td>\n",
              "      <td>I like eat delicious food. That's I'm cooking ...</td>\n",
              "      <td>Positive</td>\n",
              "      <td>1.00</td>\n",
              "      <td>0.533333</td>\n",
              "    </tr>\n",
              "    <tr>\n",
              "      <th>1</th>\n",
              "      <td>10 Best Foods for You</td>\n",
              "      <td>This help eating healthy exercise regular basis</td>\n",
              "      <td>Positive</td>\n",
              "      <td>0.25</td>\n",
              "      <td>0.288462</td>\n",
              "    </tr>\n",
              "    <tr>\n",
              "      <th>2</th>\n",
              "      <td>10 Best Foods for You</td>\n",
              "      <td>NaN</td>\n",
              "      <td>NaN</td>\n",
              "      <td>NaN</td>\n",
              "      <td>NaN</td>\n",
              "    </tr>\n",
              "    <tr>\n",
              "      <th>3</th>\n",
              "      <td>10 Best Foods for You</td>\n",
              "      <td>Works great especially going grocery store</td>\n",
              "      <td>Positive</td>\n",
              "      <td>0.40</td>\n",
              "      <td>0.875000</td>\n",
              "    </tr>\n",
              "    <tr>\n",
              "      <th>4</th>\n",
              "      <td>10 Best Foods for You</td>\n",
              "      <td>Best idea us</td>\n",
              "      <td>Positive</td>\n",
              "      <td>1.00</td>\n",
              "      <td>0.300000</td>\n",
              "    </tr>\n",
              "  </tbody>\n",
              "</table>\n",
              "</div>\n",
              "    <div class=\"colab-df-buttons\">\n",
              "\n",
              "  <div class=\"colab-df-container\">\n",
              "    <button class=\"colab-df-convert\" onclick=\"convertToInteractive('df-8f55904a-1aa0-4b80-a6a8-0e9eb60fd4e9')\"\n",
              "            title=\"Convert this dataframe to an interactive table.\"\n",
              "            style=\"display:none;\">\n",
              "\n",
              "  <svg xmlns=\"http://www.w3.org/2000/svg\" height=\"24px\" viewBox=\"0 -960 960 960\">\n",
              "    <path d=\"M120-120v-720h720v720H120Zm60-500h600v-160H180v160Zm220 220h160v-160H400v160Zm0 220h160v-160H400v160ZM180-400h160v-160H180v160Zm440 0h160v-160H620v160ZM180-180h160v-160H180v160Zm440 0h160v-160H620v160Z\"/>\n",
              "  </svg>\n",
              "    </button>\n",
              "\n",
              "  <style>\n",
              "    .colab-df-container {\n",
              "      display:flex;\n",
              "      gap: 12px;\n",
              "    }\n",
              "\n",
              "    .colab-df-convert {\n",
              "      background-color: #E8F0FE;\n",
              "      border: none;\n",
              "      border-radius: 50%;\n",
              "      cursor: pointer;\n",
              "      display: none;\n",
              "      fill: #1967D2;\n",
              "      height: 32px;\n",
              "      padding: 0 0 0 0;\n",
              "      width: 32px;\n",
              "    }\n",
              "\n",
              "    .colab-df-convert:hover {\n",
              "      background-color: #E2EBFA;\n",
              "      box-shadow: 0px 1px 2px rgba(60, 64, 67, 0.3), 0px 1px 3px 1px rgba(60, 64, 67, 0.15);\n",
              "      fill: #174EA6;\n",
              "    }\n",
              "\n",
              "    .colab-df-buttons div {\n",
              "      margin-bottom: 4px;\n",
              "    }\n",
              "\n",
              "    [theme=dark] .colab-df-convert {\n",
              "      background-color: #3B4455;\n",
              "      fill: #D2E3FC;\n",
              "    }\n",
              "\n",
              "    [theme=dark] .colab-df-convert:hover {\n",
              "      background-color: #434B5C;\n",
              "      box-shadow: 0px 1px 3px 1px rgba(0, 0, 0, 0.15);\n",
              "      filter: drop-shadow(0px 1px 2px rgba(0, 0, 0, 0.3));\n",
              "      fill: #FFFFFF;\n",
              "    }\n",
              "  </style>\n",
              "\n",
              "    <script>\n",
              "      const buttonEl =\n",
              "        document.querySelector('#df-8f55904a-1aa0-4b80-a6a8-0e9eb60fd4e9 button.colab-df-convert');\n",
              "      buttonEl.style.display =\n",
              "        google.colab.kernel.accessAllowed ? 'block' : 'none';\n",
              "\n",
              "      async function convertToInteractive(key) {\n",
              "        const element = document.querySelector('#df-8f55904a-1aa0-4b80-a6a8-0e9eb60fd4e9');\n",
              "        const dataTable =\n",
              "          await google.colab.kernel.invokeFunction('convertToInteractive',\n",
              "                                                    [key], {});\n",
              "        if (!dataTable) return;\n",
              "\n",
              "        const docLinkHtml = 'Like what you see? Visit the ' +\n",
              "          '<a target=\"_blank\" href=https://colab.research.google.com/notebooks/data_table.ipynb>data table notebook</a>'\n",
              "          + ' to learn more about interactive tables.';\n",
              "        element.innerHTML = '';\n",
              "        dataTable['output_type'] = 'display_data';\n",
              "        await google.colab.output.renderOutput(dataTable, element);\n",
              "        const docLink = document.createElement('div');\n",
              "        docLink.innerHTML = docLinkHtml;\n",
              "        element.appendChild(docLink);\n",
              "      }\n",
              "    </script>\n",
              "  </div>\n",
              "\n",
              "\n",
              "    <div id=\"df-917043e0-8eca-4287-a9bb-d98f7ae41a0e\">\n",
              "      <button class=\"colab-df-quickchart\" onclick=\"quickchart('df-917043e0-8eca-4287-a9bb-d98f7ae41a0e')\"\n",
              "                title=\"Suggest charts\"\n",
              "                style=\"display:none;\">\n",
              "\n",
              "<svg xmlns=\"http://www.w3.org/2000/svg\" height=\"24px\"viewBox=\"0 0 24 24\"\n",
              "     width=\"24px\">\n",
              "    <g>\n",
              "        <path d=\"M19 3H5c-1.1 0-2 .9-2 2v14c0 1.1.9 2 2 2h14c1.1 0 2-.9 2-2V5c0-1.1-.9-2-2-2zM9 17H7v-7h2v7zm4 0h-2V7h2v10zm4 0h-2v-4h2v4z\"/>\n",
              "    </g>\n",
              "</svg>\n",
              "      </button>\n",
              "\n",
              "<style>\n",
              "  .colab-df-quickchart {\n",
              "      --bg-color: #E8F0FE;\n",
              "      --fill-color: #1967D2;\n",
              "      --hover-bg-color: #E2EBFA;\n",
              "      --hover-fill-color: #174EA6;\n",
              "      --disabled-fill-color: #AAA;\n",
              "      --disabled-bg-color: #DDD;\n",
              "  }\n",
              "\n",
              "  [theme=dark] .colab-df-quickchart {\n",
              "      --bg-color: #3B4455;\n",
              "      --fill-color: #D2E3FC;\n",
              "      --hover-bg-color: #434B5C;\n",
              "      --hover-fill-color: #FFFFFF;\n",
              "      --disabled-bg-color: #3B4455;\n",
              "      --disabled-fill-color: #666;\n",
              "  }\n",
              "\n",
              "  .colab-df-quickchart {\n",
              "    background-color: var(--bg-color);\n",
              "    border: none;\n",
              "    border-radius: 50%;\n",
              "    cursor: pointer;\n",
              "    display: none;\n",
              "    fill: var(--fill-color);\n",
              "    height: 32px;\n",
              "    padding: 0;\n",
              "    width: 32px;\n",
              "  }\n",
              "\n",
              "  .colab-df-quickchart:hover {\n",
              "    background-color: var(--hover-bg-color);\n",
              "    box-shadow: 0 1px 2px rgba(60, 64, 67, 0.3), 0 1px 3px 1px rgba(60, 64, 67, 0.15);\n",
              "    fill: var(--button-hover-fill-color);\n",
              "  }\n",
              "\n",
              "  .colab-df-quickchart-complete:disabled,\n",
              "  .colab-df-quickchart-complete:disabled:hover {\n",
              "    background-color: var(--disabled-bg-color);\n",
              "    fill: var(--disabled-fill-color);\n",
              "    box-shadow: none;\n",
              "  }\n",
              "\n",
              "  .colab-df-spinner {\n",
              "    border: 2px solid var(--fill-color);\n",
              "    border-color: transparent;\n",
              "    border-bottom-color: var(--fill-color);\n",
              "    animation:\n",
              "      spin 1s steps(1) infinite;\n",
              "  }\n",
              "\n",
              "  @keyframes spin {\n",
              "    0% {\n",
              "      border-color: transparent;\n",
              "      border-bottom-color: var(--fill-color);\n",
              "      border-left-color: var(--fill-color);\n",
              "    }\n",
              "    20% {\n",
              "      border-color: transparent;\n",
              "      border-left-color: var(--fill-color);\n",
              "      border-top-color: var(--fill-color);\n",
              "    }\n",
              "    30% {\n",
              "      border-color: transparent;\n",
              "      border-left-color: var(--fill-color);\n",
              "      border-top-color: var(--fill-color);\n",
              "      border-right-color: var(--fill-color);\n",
              "    }\n",
              "    40% {\n",
              "      border-color: transparent;\n",
              "      border-right-color: var(--fill-color);\n",
              "      border-top-color: var(--fill-color);\n",
              "    }\n",
              "    60% {\n",
              "      border-color: transparent;\n",
              "      border-right-color: var(--fill-color);\n",
              "    }\n",
              "    80% {\n",
              "      border-color: transparent;\n",
              "      border-right-color: var(--fill-color);\n",
              "      border-bottom-color: var(--fill-color);\n",
              "    }\n",
              "    90% {\n",
              "      border-color: transparent;\n",
              "      border-bottom-color: var(--fill-color);\n",
              "    }\n",
              "  }\n",
              "</style>\n",
              "\n",
              "      <script>\n",
              "        async function quickchart(key) {\n",
              "          const quickchartButtonEl =\n",
              "            document.querySelector('#' + key + ' button');\n",
              "          quickchartButtonEl.disabled = true;  // To prevent multiple clicks.\n",
              "          quickchartButtonEl.classList.add('colab-df-spinner');\n",
              "          try {\n",
              "            const charts = await google.colab.kernel.invokeFunction(\n",
              "                'suggestCharts', [key], {});\n",
              "          } catch (error) {\n",
              "            console.error('Error during call to suggestCharts:', error);\n",
              "          }\n",
              "          quickchartButtonEl.classList.remove('colab-df-spinner');\n",
              "          quickchartButtonEl.classList.add('colab-df-quickchart-complete');\n",
              "        }\n",
              "        (() => {\n",
              "          let quickchartButtonEl =\n",
              "            document.querySelector('#df-917043e0-8eca-4287-a9bb-d98f7ae41a0e button');\n",
              "          quickchartButtonEl.style.display =\n",
              "            google.colab.kernel.accessAllowed ? 'block' : 'none';\n",
              "        })();\n",
              "      </script>\n",
              "    </div>\n",
              "\n",
              "    </div>\n",
              "  </div>\n"
            ],
            "application/vnd.google.colaboratory.intrinsic+json": {
              "type": "dataframe",
              "variable_name": "data_b",
              "summary": "{\n  \"name\": \"data_b\",\n  \"rows\": 17155,\n  \"fields\": [\n    {\n      \"column\": \"App\",\n      \"properties\": {\n        \"dtype\": \"category\",\n        \"num_unique_values\": 288,\n        \"samples\": [\n          \"AOL - News, Mail & Video\",\n          \"Aviary Effects: Classic\",\n          \"Birds Sounds Ringtones & Wallpapers\"\n        ],\n        \"semantic_type\": \"\",\n        \"description\": \"\"\n      }\n    },\n    {\n      \"column\": \"Translated_Review\",\n      \"properties\": {\n        \"dtype\": \"category\",\n        \"num_unique_values\": 8509,\n        \"samples\": [\n          \"This game much addictive there's issue area 51 track. Whenever trying clear stage, freeze midway gets forced close. Not sure whats issue much annoying. Giving 1 star coz last 1 week I facing issue.\",\n          \"I hit opposing player way headshots yet AI player wins two headshots?! Can say rip off. Smh\",\n          \"It's ok till I'm 1st splits reason I died silver\"\n        ],\n        \"semantic_type\": \"\",\n        \"description\": \"\"\n      }\n    },\n    {\n      \"column\": \"Sentiment\",\n      \"properties\": {\n        \"dtype\": \"category\",\n        \"num_unique_values\": 3,\n        \"samples\": [\n          \"Positive\",\n          \"Neutral\",\n          \"Negative\"\n        ],\n        \"semantic_type\": \"\",\n        \"description\": \"\"\n      }\n    },\n    {\n      \"column\": \"Sentiment_Polarity\",\n      \"properties\": {\n        \"dtype\": \"number\",\n        \"std\": 0.35911205195131973,\n        \"min\": -1.0,\n        \"max\": 1.0,\n        \"num_unique_values\": 2247,\n        \"samples\": [\n          0.374090909090909,\n          0.640625,\n          0.4833333333333333\n        ],\n        \"semantic_type\": \"\",\n        \"description\": \"\"\n      }\n    },\n    {\n      \"column\": \"Sentiment_Subjectivity\",\n      \"properties\": {\n        \"dtype\": \"number\",\n        \"std\": 0.26537662119833455,\n        \"min\": 0.0,\n        \"max\": 1.0,\n        \"num_unique_values\": 1875,\n        \"samples\": [\n          0.6482683982683983,\n          0.4257575757575758,\n          0.6416666666666667\n        ],\n        \"semantic_type\": \"\",\n        \"description\": \"\"\n      }\n    }\n  ]\n}"
            }
          },
          "metadata": {},
          "execution_count": 4
        }
      ]
    },
    {
      "cell_type": "code",
      "source": [
        "import numpy as np\n",
        "print(\" Total Row and Column in the Dataset_a : \", data_a.shape)\n",
        "print(\" Total Row and Column in the Dataset_b : \", data_b.shape)"
      ],
      "metadata": {
        "colab": {
          "base_uri": "https://localhost:8080/"
        },
        "id": "OSJE69XdeOdy",
        "outputId": "20b83500-d284-4b3e-d6df-a283a88ab724"
      },
      "execution_count": null,
      "outputs": [
        {
          "output_type": "stream",
          "name": "stdout",
          "text": [
            " Total Row and Column in the Dataset_a :  (10841, 13)\n",
            " Total Row and Column in the Dataset_b :  (17155, 5)\n"
          ]
        }
      ]
    },
    {
      "cell_type": "code",
      "source": [
        "print(data_a.describe())"
      ],
      "metadata": {
        "colab": {
          "base_uri": "https://localhost:8080/"
        },
        "id": "g9x4BRwUgpwK",
        "outputId": "806fa274-c263-433d-bd71-971f8fb75293"
      },
      "execution_count": null,
      "outputs": [
        {
          "output_type": "stream",
          "name": "stdout",
          "text": [
            "            Rating\n",
            "count  9367.000000\n",
            "mean      4.193338\n",
            "std       0.537431\n",
            "min       1.000000\n",
            "25%       4.000000\n",
            "50%       4.300000\n",
            "75%       4.500000\n",
            "max      19.000000\n"
          ]
        }
      ]
    },
    {
      "cell_type": "code",
      "source": [
        "print(data_a.info())"
      ],
      "metadata": {
        "colab": {
          "base_uri": "https://localhost:8080/"
        },
        "id": "kk8kMozCdshs",
        "outputId": "1303d64a-5adc-483d-85cb-8f65013c8a11"
      },
      "execution_count": null,
      "outputs": [
        {
          "output_type": "stream",
          "name": "stdout",
          "text": [
            "<class 'pandas.core.frame.DataFrame'>\n",
            "Index: 10839 entries, 0 to 10840\n",
            "Data columns (total 13 columns):\n",
            " #   Column          Non-Null Count  Dtype  \n",
            "---  ------          --------------  -----  \n",
            " 0   App             10839 non-null  object \n",
            " 1   Category        10839 non-null  object \n",
            " 2   Rating          10839 non-null  int64  \n",
            " 3   Reviews         10839 non-null  object \n",
            " 4   Size            10839 non-null  object \n",
            " 5   Installs        10839 non-null  int64  \n",
            " 6   Type            10839 non-null  object \n",
            " 7   Price           10839 non-null  float64\n",
            " 8   Content Rating  10839 non-null  object \n",
            " 9   Genres          10839 non-null  object \n",
            " 10  Last Updated    10839 non-null  object \n",
            " 11  Current Ver     10831 non-null  object \n",
            " 12  Android Ver     10837 non-null  object \n",
            "dtypes: float64(1), int64(2), object(10)\n",
            "memory usage: 1.2+ MB\n",
            "None\n"
          ]
        }
      ]
    },
    {
      "cell_type": "code",
      "source": [
        "print(data_b.describe())\n",
        "print(data_b.info())"
      ],
      "metadata": {
        "colab": {
          "base_uri": "https://localhost:8080/"
        },
        "id": "tYhoqkJ9hu_3",
        "outputId": "36f61c88-f155-4423-93d8-ed97ba38d362"
      },
      "execution_count": null,
      "outputs": [
        {
          "output_type": "stream",
          "name": "stdout",
          "text": [
            "       Sentiment_Polarity  Sentiment_Subjectivity\n",
            "count        10944.000000            10944.000000\n",
            "mean             0.172204                0.487678\n",
            "std              0.359137                0.265319\n",
            "min             -1.000000                0.000000\n",
            "25%              0.000000                0.340000\n",
            "50%              0.136364                0.512500\n",
            "75%              0.400000                0.650000\n",
            "max              1.000000                1.000000\n",
            "<class 'pandas.core.frame.DataFrame'>\n",
            "Index: 10944 entries, 0 to 17153\n",
            "Data columns (total 5 columns):\n",
            " #   Column                  Non-Null Count  Dtype  \n",
            "---  ------                  --------------  -----  \n",
            " 0   App                     10944 non-null  object \n",
            " 1   Translated_Review       10944 non-null  object \n",
            " 2   Sentiment               10944 non-null  object \n",
            " 3   Sentiment_Polarity      10944 non-null  float64\n",
            " 4   Sentiment_Subjectivity  10944 non-null  float64\n",
            "dtypes: float64(2), object(3)\n",
            "memory usage: 513.0+ KB\n",
            "None\n"
          ]
        }
      ]
    },
    {
      "cell_type": "code",
      "source": [
        "print(data_a.isnull().sum())"
      ],
      "metadata": {
        "colab": {
          "base_uri": "https://localhost:8080/"
        },
        "id": "Iz56vaGYjlCC",
        "outputId": "1ae5550c-9eac-4ca9-ac64-c9df19cf5753"
      },
      "execution_count": null,
      "outputs": [
        {
          "output_type": "stream",
          "name": "stdout",
          "text": [
            "App                  0\n",
            "Category             0\n",
            "Rating            1474\n",
            "Reviews              0\n",
            "Size                 0\n",
            "Installs             0\n",
            "Type                 1\n",
            "Price                0\n",
            "Content Rating       1\n",
            "Genres               0\n",
            "Last Updated         0\n",
            "Current Ver          8\n",
            "Android Ver          3\n",
            "dtype: int64\n"
          ]
        }
      ]
    },
    {
      "cell_type": "code",
      "source": [
        "data_a['Rating'].fillna(data_a['Rating'].mean(), inplace=True)"
      ],
      "metadata": {
        "colab": {
          "base_uri": "https://localhost:8080/"
        },
        "id": "ymxokRN1kT-j",
        "outputId": "2108b765-78c6-4c3b-f496-f58ba8201f1b"
      },
      "execution_count": null,
      "outputs": [
        {
          "output_type": "stream",
          "name": "stderr",
          "text": [
            "/tmp/ipython-input-9-1349505186.py:1: FutureWarning: A value is trying to be set on a copy of a DataFrame or Series through chained assignment using an inplace method.\n",
            "The behavior will change in pandas 3.0. This inplace method will never work because the intermediate object on which we are setting values always behaves as a copy.\n",
            "\n",
            "For example, when doing 'df[col].method(value, inplace=True)', try using 'df.method({col: value}, inplace=True)' or df[col] = df[col].method(value) instead, to perform the operation inplace on the original object.\n",
            "\n",
            "\n",
            "  data_a['Rating'].fillna(data_a['Rating'].mean(), inplace=True)\n"
          ]
        }
      ]
    },
    {
      "cell_type": "code",
      "source": [
        "print(data_a.isnull().sum())"
      ],
      "metadata": {
        "colab": {
          "base_uri": "https://localhost:8080/"
        },
        "id": "E4VJIljjlucI",
        "outputId": "105f18c9-5d0b-4401-9392-b8ae1e48801a"
      },
      "execution_count": null,
      "outputs": [
        {
          "output_type": "stream",
          "name": "stdout",
          "text": [
            "App               0\n",
            "Category          0\n",
            "Rating            0\n",
            "Reviews           0\n",
            "Size              0\n",
            "Installs          0\n",
            "Type              1\n",
            "Price             0\n",
            "Content Rating    1\n",
            "Genres            0\n",
            "Last Updated      0\n",
            "Current Ver       8\n",
            "Android Ver       3\n",
            "dtype: int64\n"
          ]
        }
      ]
    },
    {
      "cell_type": "code",
      "source": [
        "data_a.dropna(subset=['Type','Content Rating'], inplace=True)"
      ],
      "metadata": {
        "id": "f9-jMMmPmIzp"
      },
      "execution_count": null,
      "outputs": []
    },
    {
      "cell_type": "code",
      "source": [
        "print(data_a.isnull().sum())"
      ],
      "metadata": {
        "colab": {
          "base_uri": "https://localhost:8080/"
        },
        "id": "WiXau-4kmn3I",
        "outputId": "76c2564e-e60d-4c91-e50c-9fcf2418f5be"
      },
      "execution_count": null,
      "outputs": [
        {
          "output_type": "stream",
          "name": "stdout",
          "text": [
            "App               0\n",
            "Category          0\n",
            "Rating            0\n",
            "Reviews           0\n",
            "Size              0\n",
            "Installs          0\n",
            "Type              0\n",
            "Price             0\n",
            "Content Rating    0\n",
            "Genres            0\n",
            "Last Updated      0\n",
            "Current Ver       8\n",
            "Android Ver       2\n",
            "dtype: int64\n"
          ]
        }
      ]
    },
    {
      "cell_type": "code",
      "source": [
        "print(data_a[data_a['Current Ver'].isnull()])"
      ],
      "metadata": {
        "colab": {
          "base_uri": "https://localhost:8080/"
        },
        "id": "GZrEv9BKnG8L",
        "outputId": "7d91c126-db3b-4e15-eb80-84d3f758a270"
      },
      "execution_count": null,
      "outputs": [
        {
          "output_type": "stream",
          "name": "stdout",
          "text": [
            "                                   App             Category    Rating Reviews  \\\n",
            "15     Learn To Draw Kawaii Characters       ART_AND_DESIGN  3.200000      55   \n",
            "1553              Market Update Helper   LIBRARIES_AND_DEMO  4.100000   20145   \n",
            "6322            Virtual DJ Sound Mixer                TOOLS  4.200000    4010   \n",
            "6803                         BT Master               FAMILY  4.193338       0   \n",
            "7333                       Dots puzzle               FAMILY  4.000000     179   \n",
            "7407                   Calculate My IQ               FAMILY  4.193338      44   \n",
            "7730                            UFO-CQ                TOOLS  4.193338       1   \n",
            "10342                   La Fe de Jesus  BOOKS_AND_REFERENCE  4.193338       8   \n",
            "\n",
            "       Size    Installs  Type  Price Content Rating             Genres  \\\n",
            "15     2.7M      5,000+  Free      0       Everyone       Art & Design   \n",
            "1553    11k  1,000,000+  Free      0       Everyone   Libraries & Demo   \n",
            "6322   8.7M    500,000+  Free      0       Everyone              Tools   \n",
            "6803   222k        100+  Free      0       Everyone          Education   \n",
            "7333    14M     50,000+  Paid  $0.99       Everyone             Puzzle   \n",
            "7407   7.2M     10,000+  Free      0       Everyone      Entertainment   \n",
            "7730   237k         10+  Paid  $0.99       Everyone              Tools   \n",
            "10342  658k      1,000+  Free      0       Everyone  Books & Reference   \n",
            "\n",
            "            Last Updated Current Ver Android Ver  \n",
            "15          June 6, 2018         NaN  4.2 and up  \n",
            "1553   February 12, 2013         NaN  1.5 and up  \n",
            "6322        May 10, 2017         NaN  4.0 and up  \n",
            "6803    November 6, 2016         NaN  1.6 and up  \n",
            "7333      April 18, 2018         NaN  4.0 and up  \n",
            "7407       April 3, 2017         NaN  2.3 and up  \n",
            "7730        July 4, 2016         NaN  2.0 and up  \n",
            "10342   January 31, 2017         NaN  3.0 and up  \n"
          ]
        }
      ]
    },
    {
      "cell_type": "code",
      "source": [
        "data_a['Rating']=data_a['Rating'].astype(int)"
      ],
      "metadata": {
        "id": "XEJ8tuuuoSlL"
      },
      "execution_count": null,
      "outputs": []
    },
    {
      "cell_type": "code",
      "source": [
        "data_a.describe()"
      ],
      "metadata": {
        "colab": {
          "base_uri": "https://localhost:8080/",
          "height": 300
        },
        "id": "lZGJomaVptjz",
        "outputId": "f0506232-f793-469b-bd7d-89181ad1b9a0"
      },
      "execution_count": null,
      "outputs": [
        {
          "output_type": "execute_result",
          "data": {
            "text/plain": [
              "             Rating      Installs         Price\n",
              "count  10839.000000  1.083900e+04  10839.000000\n",
              "mean       3.809300  1.546577e+07      1.027463\n",
              "std        0.527769  8.503315e+07     15.950436\n",
              "min        1.000000  0.000000e+00      0.000000\n",
              "25%        4.000000  3.000000e+03      0.000000\n",
              "50%        4.000000  1.000000e+05      0.000000\n",
              "75%        4.000000  5.000000e+06      0.000000\n",
              "max        5.000000  1.000000e+09    400.000000"
            ],
            "text/html": [
              "\n",
              "  <div id=\"df-44b3886a-b59a-4fc2-8928-5b9a3f7a18ae\" class=\"colab-df-container\">\n",
              "    <div>\n",
              "<style scoped>\n",
              "    .dataframe tbody tr th:only-of-type {\n",
              "        vertical-align: middle;\n",
              "    }\n",
              "\n",
              "    .dataframe tbody tr th {\n",
              "        vertical-align: top;\n",
              "    }\n",
              "\n",
              "    .dataframe thead th {\n",
              "        text-align: right;\n",
              "    }\n",
              "</style>\n",
              "<table border=\"1\" class=\"dataframe\">\n",
              "  <thead>\n",
              "    <tr style=\"text-align: right;\">\n",
              "      <th></th>\n",
              "      <th>Rating</th>\n",
              "      <th>Installs</th>\n",
              "      <th>Price</th>\n",
              "    </tr>\n",
              "  </thead>\n",
              "  <tbody>\n",
              "    <tr>\n",
              "      <th>count</th>\n",
              "      <td>10839.000000</td>\n",
              "      <td>1.083900e+04</td>\n",
              "      <td>10839.000000</td>\n",
              "    </tr>\n",
              "    <tr>\n",
              "      <th>mean</th>\n",
              "      <td>3.809300</td>\n",
              "      <td>1.546577e+07</td>\n",
              "      <td>1.027463</td>\n",
              "    </tr>\n",
              "    <tr>\n",
              "      <th>std</th>\n",
              "      <td>0.527769</td>\n",
              "      <td>8.503315e+07</td>\n",
              "      <td>15.950436</td>\n",
              "    </tr>\n",
              "    <tr>\n",
              "      <th>min</th>\n",
              "      <td>1.000000</td>\n",
              "      <td>0.000000e+00</td>\n",
              "      <td>0.000000</td>\n",
              "    </tr>\n",
              "    <tr>\n",
              "      <th>25%</th>\n",
              "      <td>4.000000</td>\n",
              "      <td>3.000000e+03</td>\n",
              "      <td>0.000000</td>\n",
              "    </tr>\n",
              "    <tr>\n",
              "      <th>50%</th>\n",
              "      <td>4.000000</td>\n",
              "      <td>1.000000e+05</td>\n",
              "      <td>0.000000</td>\n",
              "    </tr>\n",
              "    <tr>\n",
              "      <th>75%</th>\n",
              "      <td>4.000000</td>\n",
              "      <td>5.000000e+06</td>\n",
              "      <td>0.000000</td>\n",
              "    </tr>\n",
              "    <tr>\n",
              "      <th>max</th>\n",
              "      <td>5.000000</td>\n",
              "      <td>1.000000e+09</td>\n",
              "      <td>400.000000</td>\n",
              "    </tr>\n",
              "  </tbody>\n",
              "</table>\n",
              "</div>\n",
              "    <div class=\"colab-df-buttons\">\n",
              "\n",
              "  <div class=\"colab-df-container\">\n",
              "    <button class=\"colab-df-convert\" onclick=\"convertToInteractive('df-44b3886a-b59a-4fc2-8928-5b9a3f7a18ae')\"\n",
              "            title=\"Convert this dataframe to an interactive table.\"\n",
              "            style=\"display:none;\">\n",
              "\n",
              "  <svg xmlns=\"http://www.w3.org/2000/svg\" height=\"24px\" viewBox=\"0 -960 960 960\">\n",
              "    <path d=\"M120-120v-720h720v720H120Zm60-500h600v-160H180v160Zm220 220h160v-160H400v160Zm0 220h160v-160H400v160ZM180-400h160v-160H180v160Zm440 0h160v-160H620v160ZM180-180h160v-160H180v160Zm440 0h160v-160H620v160Z\"/>\n",
              "  </svg>\n",
              "    </button>\n",
              "\n",
              "  <style>\n",
              "    .colab-df-container {\n",
              "      display:flex;\n",
              "      gap: 12px;\n",
              "    }\n",
              "\n",
              "    .colab-df-convert {\n",
              "      background-color: #E8F0FE;\n",
              "      border: none;\n",
              "      border-radius: 50%;\n",
              "      cursor: pointer;\n",
              "      display: none;\n",
              "      fill: #1967D2;\n",
              "      height: 32px;\n",
              "      padding: 0 0 0 0;\n",
              "      width: 32px;\n",
              "    }\n",
              "\n",
              "    .colab-df-convert:hover {\n",
              "      background-color: #E2EBFA;\n",
              "      box-shadow: 0px 1px 2px rgba(60, 64, 67, 0.3), 0px 1px 3px 1px rgba(60, 64, 67, 0.15);\n",
              "      fill: #174EA6;\n",
              "    }\n",
              "\n",
              "    .colab-df-buttons div {\n",
              "      margin-bottom: 4px;\n",
              "    }\n",
              "\n",
              "    [theme=dark] .colab-df-convert {\n",
              "      background-color: #3B4455;\n",
              "      fill: #D2E3FC;\n",
              "    }\n",
              "\n",
              "    [theme=dark] .colab-df-convert:hover {\n",
              "      background-color: #434B5C;\n",
              "      box-shadow: 0px 1px 3px 1px rgba(0, 0, 0, 0.15);\n",
              "      filter: drop-shadow(0px 1px 2px rgba(0, 0, 0, 0.3));\n",
              "      fill: #FFFFFF;\n",
              "    }\n",
              "  </style>\n",
              "\n",
              "    <script>\n",
              "      const buttonEl =\n",
              "        document.querySelector('#df-44b3886a-b59a-4fc2-8928-5b9a3f7a18ae button.colab-df-convert');\n",
              "      buttonEl.style.display =\n",
              "        google.colab.kernel.accessAllowed ? 'block' : 'none';\n",
              "\n",
              "      async function convertToInteractive(key) {\n",
              "        const element = document.querySelector('#df-44b3886a-b59a-4fc2-8928-5b9a3f7a18ae');\n",
              "        const dataTable =\n",
              "          await google.colab.kernel.invokeFunction('convertToInteractive',\n",
              "                                                    [key], {});\n",
              "        if (!dataTable) return;\n",
              "\n",
              "        const docLinkHtml = 'Like what you see? Visit the ' +\n",
              "          '<a target=\"_blank\" href=https://colab.research.google.com/notebooks/data_table.ipynb>data table notebook</a>'\n",
              "          + ' to learn more about interactive tables.';\n",
              "        element.innerHTML = '';\n",
              "        dataTable['output_type'] = 'display_data';\n",
              "        await google.colab.output.renderOutput(dataTable, element);\n",
              "        const docLink = document.createElement('div');\n",
              "        docLink.innerHTML = docLinkHtml;\n",
              "        element.appendChild(docLink);\n",
              "      }\n",
              "    </script>\n",
              "  </div>\n",
              "\n",
              "\n",
              "    <div id=\"df-da61baa4-6119-48ec-9deb-afd87808069a\">\n",
              "      <button class=\"colab-df-quickchart\" onclick=\"quickchart('df-da61baa4-6119-48ec-9deb-afd87808069a')\"\n",
              "                title=\"Suggest charts\"\n",
              "                style=\"display:none;\">\n",
              "\n",
              "<svg xmlns=\"http://www.w3.org/2000/svg\" height=\"24px\"viewBox=\"0 0 24 24\"\n",
              "     width=\"24px\">\n",
              "    <g>\n",
              "        <path d=\"M19 3H5c-1.1 0-2 .9-2 2v14c0 1.1.9 2 2 2h14c1.1 0 2-.9 2-2V5c0-1.1-.9-2-2-2zM9 17H7v-7h2v7zm4 0h-2V7h2v10zm4 0h-2v-4h2v4z\"/>\n",
              "    </g>\n",
              "</svg>\n",
              "      </button>\n",
              "\n",
              "<style>\n",
              "  .colab-df-quickchart {\n",
              "      --bg-color: #E8F0FE;\n",
              "      --fill-color: #1967D2;\n",
              "      --hover-bg-color: #E2EBFA;\n",
              "      --hover-fill-color: #174EA6;\n",
              "      --disabled-fill-color: #AAA;\n",
              "      --disabled-bg-color: #DDD;\n",
              "  }\n",
              "\n",
              "  [theme=dark] .colab-df-quickchart {\n",
              "      --bg-color: #3B4455;\n",
              "      --fill-color: #D2E3FC;\n",
              "      --hover-bg-color: #434B5C;\n",
              "      --hover-fill-color: #FFFFFF;\n",
              "      --disabled-bg-color: #3B4455;\n",
              "      --disabled-fill-color: #666;\n",
              "  }\n",
              "\n",
              "  .colab-df-quickchart {\n",
              "    background-color: var(--bg-color);\n",
              "    border: none;\n",
              "    border-radius: 50%;\n",
              "    cursor: pointer;\n",
              "    display: none;\n",
              "    fill: var(--fill-color);\n",
              "    height: 32px;\n",
              "    padding: 0;\n",
              "    width: 32px;\n",
              "  }\n",
              "\n",
              "  .colab-df-quickchart:hover {\n",
              "    background-color: var(--hover-bg-color);\n",
              "    box-shadow: 0 1px 2px rgba(60, 64, 67, 0.3), 0 1px 3px 1px rgba(60, 64, 67, 0.15);\n",
              "    fill: var(--button-hover-fill-color);\n",
              "  }\n",
              "\n",
              "  .colab-df-quickchart-complete:disabled,\n",
              "  .colab-df-quickchart-complete:disabled:hover {\n",
              "    background-color: var(--disabled-bg-color);\n",
              "    fill: var(--disabled-fill-color);\n",
              "    box-shadow: none;\n",
              "  }\n",
              "\n",
              "  .colab-df-spinner {\n",
              "    border: 2px solid var(--fill-color);\n",
              "    border-color: transparent;\n",
              "    border-bottom-color: var(--fill-color);\n",
              "    animation:\n",
              "      spin 1s steps(1) infinite;\n",
              "  }\n",
              "\n",
              "  @keyframes spin {\n",
              "    0% {\n",
              "      border-color: transparent;\n",
              "      border-bottom-color: var(--fill-color);\n",
              "      border-left-color: var(--fill-color);\n",
              "    }\n",
              "    20% {\n",
              "      border-color: transparent;\n",
              "      border-left-color: var(--fill-color);\n",
              "      border-top-color: var(--fill-color);\n",
              "    }\n",
              "    30% {\n",
              "      border-color: transparent;\n",
              "      border-left-color: var(--fill-color);\n",
              "      border-top-color: var(--fill-color);\n",
              "      border-right-color: var(--fill-color);\n",
              "    }\n",
              "    40% {\n",
              "      border-color: transparent;\n",
              "      border-right-color: var(--fill-color);\n",
              "      border-top-color: var(--fill-color);\n",
              "    }\n",
              "    60% {\n",
              "      border-color: transparent;\n",
              "      border-right-color: var(--fill-color);\n",
              "    }\n",
              "    80% {\n",
              "      border-color: transparent;\n",
              "      border-right-color: var(--fill-color);\n",
              "      border-bottom-color: var(--fill-color);\n",
              "    }\n",
              "    90% {\n",
              "      border-color: transparent;\n",
              "      border-bottom-color: var(--fill-color);\n",
              "    }\n",
              "  }\n",
              "</style>\n",
              "\n",
              "      <script>\n",
              "        async function quickchart(key) {\n",
              "          const quickchartButtonEl =\n",
              "            document.querySelector('#' + key + ' button');\n",
              "          quickchartButtonEl.disabled = true;  // To prevent multiple clicks.\n",
              "          quickchartButtonEl.classList.add('colab-df-spinner');\n",
              "          try {\n",
              "            const charts = await google.colab.kernel.invokeFunction(\n",
              "                'suggestCharts', [key], {});\n",
              "          } catch (error) {\n",
              "            console.error('Error during call to suggestCharts:', error);\n",
              "          }\n",
              "          quickchartButtonEl.classList.remove('colab-df-spinner');\n",
              "          quickchartButtonEl.classList.add('colab-df-quickchart-complete');\n",
              "        }\n",
              "        (() => {\n",
              "          let quickchartButtonEl =\n",
              "            document.querySelector('#df-da61baa4-6119-48ec-9deb-afd87808069a button');\n",
              "          quickchartButtonEl.style.display =\n",
              "            google.colab.kernel.accessAllowed ? 'block' : 'none';\n",
              "        })();\n",
              "      </script>\n",
              "    </div>\n",
              "\n",
              "    </div>\n",
              "  </div>\n"
            ],
            "application/vnd.google.colaboratory.intrinsic+json": {
              "type": "dataframe",
              "summary": "{\n  \"name\": \"data_a\",\n  \"rows\": 8,\n  \"fields\": [\n    {\n      \"column\": \"Rating\",\n      \"properties\": {\n        \"dtype\": \"number\",\n        \"std\": 3831.037334774256,\n        \"min\": 0.5277694189844145,\n        \"max\": 10839.0,\n        \"num_unique_values\": 6,\n        \"samples\": [\n          10839.0,\n          3.8092997508995294,\n          5.0\n        ],\n        \"semantic_type\": \"\",\n        \"description\": \"\"\n      }\n    },\n    {\n      \"column\": \"Installs\",\n      \"properties\": {\n        \"dtype\": \"number\",\n        \"std\": 349427570.8272813,\n        \"min\": 0.0,\n        \"max\": 1000000000.0,\n        \"num_unique_values\": 8,\n        \"samples\": [\n          15465765.613709752,\n          100000.0,\n          10839.0\n        ],\n        \"semantic_type\": \"\",\n        \"description\": \"\"\n      }\n    },\n    {\n      \"column\": \"Price\",\n      \"properties\": {\n        \"dtype\": \"number\",\n        \"std\": 3813.641803990375,\n        \"min\": 0.0,\n        \"max\": 10839.0,\n        \"num_unique_values\": 5,\n        \"samples\": [\n          1.0274628655780056,\n          400.0,\n          15.95043622250547\n        ],\n        \"semantic_type\": \"\",\n        \"description\": \"\"\n      }\n    }\n  ]\n}"
            }
          },
          "metadata": {},
          "execution_count": 26
        }
      ]
    },
    {
      "cell_type": "code",
      "source": [
        "import matplotlib.pyplot as plt\n",
        "import seaborn as sns\n",
        "plt.figure(figsize=(10,6))\n",
        "sns.histplot(data_a['Rating'],bins=20,kde=True)\n",
        "plt.title(\"Distribution of App Ratings\")\n",
        "plt.show()\n"
      ],
      "metadata": {
        "colab": {
          "base_uri": "https://localhost:8080/",
          "height": 525
        },
        "id": "Owgb8GkVp2YI",
        "outputId": "61d59f33-5aa0-4ff0-8a87-9edb3e30b888"
      },
      "execution_count": null,
      "outputs": [
        {
          "output_type": "display_data",
          "data": {
            "text/plain": [
              "<Figure size 1000x600 with 1 Axes>"
            ],
            "image/png": "[encoded data removed]"
          },
          "metadata": {}
        }
      ]
    },
    {
      "cell_type": "code",
      "source": [
        "sns.countplot(y='Category',data=data_a, order=data_a['Category'].value_counts().index)\n",
        "plt.title(\"counts of Apps Category\")\n",
        "plt.show()"
      ],
      "metadata": {
        "colab": {
          "base_uri": "https://localhost:8080/",
          "height": 472
        },
        "id": "l9rUJZ3Wqh3B",
        "outputId": "74d9d8d2-528c-4629-c747-9119da74281c"
      },
      "execution_count": null,
      "outputs": [
        {
          "output_type": "display_data",
          "data": {
            "text/plain": [
              "<Figure size 640x480 with 1 Axes>"
            ],
            "image/png": "[encoded data removed]"
          },
          "metadata": {}
        }
      ]
    },
    {
      "cell_type": "code",
      "source": [
        "sns.scatterplot(x='Rating', y='Installs', hue='Category',\n",
        "data=data_a)\n",
        "plt.title('Relationship between Installs and Ratings')\n",
        "plt.legend(loc='upper right')\n",
        "plt.show()"
      ],
      "metadata": {
        "colab": {
          "base_uri": "https://localhost:8080/",
          "height": 763
        },
        "id": "tAacvmhErHOF",
        "outputId": "a8e47b12-dea3-4a44-eb6a-0eeb3c58371d"
      },
      "execution_count": null,
      "outputs": [
        {
          "output_type": "display_data",
          "data": {
            "text/plain": [
              "<Figure size 640x480 with 1 Axes>"
            ],
            "image/png": "[encoded data removed]"
          },
          "metadata": {}
        }
      ]
    },
    {
      "cell_type": "markdown",
      "source": [],
      "metadata": {
        "id": "tc60-Snyr2MM"
      }
    },
    {
      "cell_type": "markdown",
      "source": [],
      "metadata": {
        "id": "vzGwA-f9sHUK"
      }
    },
    {
      "cell_type": "code",
      "source": [
        "avg_rating_by_category =data_a.groupby('Category')['Rating'].mean().sort_values(ascending=False)\n",
        "print(avg_rating_by_category)"
      ],
      "metadata": {
        "colab": {
          "base_uri": "https://localhost:8080/"
        },
        "id": "j16AudP-rMGD",
        "outputId": "0d1c410d-6d42-4283-df4d-055f9491a252"
      },
      "execution_count": null,
      "outputs": [
        {
          "output_type": "stream",
          "name": "stdout",
          "text": [
            "Category\n",
            "EVENTS                 4.031250\n",
            "EDUCATION              3.961538\n",
            "PERSONALIZATION        3.941327\n",
            "ART_AND_DESIGN         3.907692\n",
            "BOOKS_AND_REFERENCE    3.896104\n",
            "SOCIAL                 3.894915\n",
            "SHOPPING               3.892308\n",
            "GAME                   3.871503\n",
            "BEAUTY                 3.867925\n",
            "SPORTS                 3.854167\n",
            "PARENTING              3.850000\n",
            "PRODUCTIVITY           3.844340\n",
            "COMMUNICATION          3.839793\n",
            "HEALTH_AND_FITNESS     3.838710\n",
            "LIBRARIES_AND_DEMO     3.835294\n",
            "MEDICAL                3.827214\n",
            "PHOTOGRAPHY            3.826866\n",
            "BUSINESS               3.823913\n",
            "WEATHER                3.804878\n",
            "FAMILY                 3.799594\n",
            "HOUSE_AND_HOME         3.795455\n",
            "NEWS_AND_MAGAZINES     3.773852\n",
            "AUTO_AND_VEHICLES      3.764706\n",
            "FOOD_AND_DRINK         3.763780\n",
            "TRAVEL_AND_LOCAL       3.751938\n",
            "FINANCE                3.740437\n",
            "LIFESTYLE              3.738220\n",
            "ENTERTAINMENT          3.724832\n",
            "COMICS                 3.716667\n",
            "TOOLS                  3.685647\n",
            "MAPS_AND_NAVIGATION    3.656934\n",
            "DATING                 3.653846\n",
            "VIDEO_PLAYERS          3.640000\n",
            "Name: Rating, dtype: float64\n"
          ]
        }
      ]
    },
    {
      "cell_type": "code",
      "source": [
        "most_installed_apps = data_a[['App','Installs']].sort_values(by='Installs',ascending=False).head(10)\n",
        "print(most_installed_apps)"
      ],
      "metadata": {
        "colab": {
          "base_uri": "https://localhost:8080/"
        },
        "id": "GTScXg1Vsci2",
        "outputId": "d200262b-21e7-4af2-9987-43073dca99e7"
      },
      "execution_count": null,
      "outputs": [
        {
          "output_type": "stream",
          "name": "stdout",
          "text": [
            "                                           App    Installs\n",
            "5856                         Google Play Games  1000000000\n",
            "5395                             Google Photos  1000000000\n",
            "2853                             Google Photos  1000000000\n",
            "2884                             Google Photos  1000000000\n",
            "4170                              Google Drive  1000000000\n",
            "4234             Skype - free IM & video calls  1000000000\n",
            "4104  Messenger – Text and Video Chat for Free  1000000000\n",
            "4144                                   Google+  1000000000\n",
            "4150                                    Google  1000000000\n",
            "4153                                  Hangouts  1000000000\n"
          ]
        }
      ]
    },
    {
      "cell_type": "code",
      "source": [
        "top_genres = data_a['Genres'].value_counts().head(5)\n",
        "print(top_genres)"
      ],
      "metadata": {
        "colab": {
          "base_uri": "https://localhost:8080/"
        },
        "id": "4k1NYkvjsvwF",
        "outputId": "91b9edd8-41e2-487c-c942-cf4242e5cd82"
      },
      "execution_count": null,
      "outputs": [
        {
          "output_type": "stream",
          "name": "stdout",
          "text": [
            "Genres\n",
            "Tools            842\n",
            "Entertainment    623\n",
            "Education        549\n",
            "Medical          463\n",
            "Business         460\n",
            "Name: count, dtype: int64\n"
          ]
        }
      ]
    },
    {
      "cell_type": "code",
      "source": [
        "Higest_installs_apps = data_a.loc[data_a.groupby('Category')['Installs'].idxmax()]\n",
        "print(Higest_installs_apps)"
      ],
      "metadata": {
        "colab": {
          "base_uri": "https://localhost:8080/"
        },
        "id": "PTTdZ33VbOUP",
        "outputId": "81c3f71b-42b0-4f97-a373-8083f39eacd7"
      },
      "execution_count": null,
      "outputs": [
        {
          "output_type": "stream",
          "name": "stdout",
          "text": [
            "                                                    App             Category  \\\n",
            "3                                 Sketch - Draw & Paint       ART_AND_DESIGN   \n",
            "72        Android Auto - Maps, Media, Messaging & Voice    AUTO_AND_VEHICLES   \n",
            "117                       Beauty Camera - Selfie Camera               BEAUTY   \n",
            "152                                   Google Play Books  BOOKS_AND_REFERENCE   \n",
            "194              OfficeSuite : Free Office + PDF Editor             BUSINESS   \n",
            "297                          LINE WEBTOON - Free Comics               COMICS   \n",
            "335            Messenger – Text and Video Chat for Free        COMMUNICATION   \n",
            "482                      Zoosk Dating App: Meet Singles               DATING   \n",
            "699                      Duolingo: Learn Languages Free            EDUCATION   \n",
            "865                                   Google Play Games        ENTERTAINMENT   \n",
            "1005                         Ticketmaster Event Tickets               EVENTS   \n",
            "5856                                  Google Play Games               FAMILY   \n",
            "1083                                         Google Pay              FINANCE   \n",
            "1176                                         McDonald's       FOOD_AND_DRINK   \n",
            "1654                                     Subway Surfers                 GAME   \n",
            "5596                                     Samsung Health   HEALTH_AND_FITNESS   \n",
            "1446  Zillow: Find Houses for Sale & Apartments for ...       HOUSE_AND_HOME   \n",
            "1523                         Aviary Stickers: Free Pack   LIBRARIES_AND_DEMO   \n",
            "4587                                             Tinder            LIFESTYLE   \n",
            "3820  Waze - GPS, Maps, Traffic Alerts & Live Naviga...  MAPS_AND_NAVIGATION   \n",
            "2310                                     Blood Pressure              MEDICAL   \n",
            "3736                                        Google News   NEWS_AND_MAGAZINES   \n",
            "7229     Pregnancy Tracker & Countdown to Baby Due Date            PARENTING   \n",
            "3354                      ZEDGE™ Ringtones & Wallpapers      PERSONALIZATION   \n",
            "2808                                      Google Photos          PHOTOGRAPHY   \n",
            "3454                                       Google Drive         PRODUCTIVITY   \n",
            "2655                           Wish - Shopping Made Fun             SHOPPING   \n",
            "2544                                           Facebook               SOCIAL   \n",
            "3953                                        8 Ball Pool               SPORTS   \n",
            "3234                                             Google                TOOLS   \n",
            "3117                          Maps - Navigate & Explore     TRAVEL_AND_LOCAL   \n",
            "3665                                            YouTube        VIDEO_PLAYERS   \n",
            "3626  The Weather Channel: Rain Forecast & Storm Alerts              WEATHER   \n",
            "\n",
            "      Rating   Reviews                Size    Installs  Type  Price  \\\n",
            "3          4    215644                 25M    50000000  Free    0.0   \n",
            "72         4    271920                 16M    10000000  Free    0.0   \n",
            "117        4    113715  Varies with device    10000000  Free    0.0   \n",
            "152        3   1433233  Varies with device  1000000000  Free    0.0   \n",
            "194        4   1002861                 35M   100000000  Free    0.0   \n",
            "297        4   1013635  Varies with device    10000000  Free    0.0   \n",
            "335        4  56642847  Varies with device  1000000000  Free    0.0   \n",
            "482        4    516801  Varies with device    10000000  Free    0.0   \n",
            "699        4   6289924  Varies with device   100000000  Free    0.0   \n",
            "865        4   7165362  Varies with device  1000000000  Free    0.0   \n",
            "1005       4     40113                 36M     5000000  Free    0.0   \n",
            "5856       4   7168735  Varies with device  1000000000  Free    0.0   \n",
            "1083       4    347838  Varies with device   100000000  Free    0.0   \n",
            "1176       3    145323                 42M    10000000  Free    0.0   \n",
            "1654       4  27722264                 76M  1000000000  Free    0.0   \n",
            "5596       4    480208                 70M   500000000  Free    0.0   \n",
            "1446       4    417907                 34M    10000000  Free    0.0   \n",
            "1523       3    126862                624k    10000000  Free    0.0   \n",
            "4587       4   2789775                 68M   100000000  Free    0.0   \n",
            "3820       4   7232629  Varies with device   100000000  Free    0.0   \n",
            "2310       4     33033                7.4M     5000000  Free    0.0   \n",
            "3736       3    877635                 13M  1000000000  Free    0.0   \n",
            "7229       4    658087                 62M    10000000  Free    0.0   \n",
            "3354       4   6466641  Varies with device   100000000  Free    0.0   \n",
            "2808       4  10858556  Varies with device  1000000000  Free    0.0   \n",
            "3454       4   2731171  Varies with device  1000000000  Free    0.0   \n",
            "2655       4   6210998                 15M   100000000  Free    0.0   \n",
            "2544       4  78158306  Varies with device  1000000000  Free    0.0   \n",
            "3953       4  14184910                 52M   100000000  Free    0.0   \n",
            "3234       4   8033493  Varies with device  1000000000  Free    0.0   \n",
            "3117       4   9235155  Varies with device  1000000000  Free    0.0   \n",
            "3665       4  25655305  Varies with device  1000000000  Free    0.0   \n",
            "3626       4   1558437  Varies with device    50000000  Free    0.0   \n",
            "\n",
            "     Content Rating                   Genres      Last Updated  \\\n",
            "3              Teen             Art & Design      June 8, 2018   \n",
            "72             Teen          Auto & Vehicles     July 11, 2018   \n",
            "117        Everyone                   Beauty    August 3, 2017   \n",
            "152            Teen        Books & Reference    August 3, 2018   \n",
            "194        Everyone                 Business    August 2, 2018   \n",
            "297            Teen                   Comics     July 31, 2018   \n",
            "335        Everyone            Communication    August 1, 2018   \n",
            "482      Mature 17+                   Dating    August 2, 2018   \n",
            "699        Everyone      Education;Education    August 1, 2018   \n",
            "865            Teen            Entertainment     July 16, 2018   \n",
            "1005       Everyone                   Events     July 23, 2018   \n",
            "5856           Teen            Entertainment     July 16, 2018   \n",
            "1083       Everyone                  Finance     July 26, 2018   \n",
            "1176       Everyone             Food & Drink     July 31, 2018   \n",
            "1654   Everyone 10+                   Arcade     July 12, 2018   \n",
            "5596       Everyone         Health & Fitness     July 31, 2018   \n",
            "1446       Everyone             House & Home    August 1, 2018   \n",
            "1523       Everyone         Libraries & Demo  January 17, 2012   \n",
            "4587     Mature 17+                Lifestyle    August 2, 2018   \n",
            "3820       Everyone        Maps & Navigation     July 29, 2018   \n",
            "2310       Everyone                  Medical     July 24, 2018   \n",
            "3736           Teen         News & Magazines    August 1, 2018   \n",
            "7229       Everyone                Parenting      May 24, 2018   \n",
            "3354           Teen          Personalization     July 19, 2018   \n",
            "2808       Everyone              Photography    August 6, 2018   \n",
            "3454       Everyone             Productivity    August 6, 2018   \n",
            "2655       Everyone                 Shopping    August 3, 2018   \n",
            "2544           Teen                   Social    August 3, 2018   \n",
            "3953       Everyone                   Sports     July 31, 2018   \n",
            "3234       Everyone                    Tools    August 3, 2018   \n",
            "3117       Everyone           Travel & Local     July 31, 2018   \n",
            "3665           Teen  Video Players & Editors    August 2, 2018   \n",
            "3626       Everyone                  Weather    August 1, 2018   \n",
            "\n",
            "             Current Ver         Android Ver  \n",
            "3     Varies with device          4.2 and up  \n",
            "72    Varies with device          5.0 and up  \n",
            "117   Varies with device  Varies with device  \n",
            "152   Varies with device  Varies with device  \n",
            "194            9.7.14188          4.1 and up  \n",
            "297   Varies with device  Varies with device  \n",
            "335   Varies with device  Varies with device  \n",
            "482   Varies with device  Varies with device  \n",
            "699   Varies with device  Varies with device  \n",
            "865   Varies with device  Varies with device  \n",
            "1005  Varies with device  Varies with device  \n",
            "5856  Varies with device  Varies with device  \n",
            "1083      2.70.206190089  Varies with device  \n",
            "1176              5.15.0          4.4 and up  \n",
            "1654              1.90.0          4.1 and up  \n",
            "5596          5.17.2.009          5.0 and up  \n",
            "1446          9.8.1.7425          4.4 and up  \n",
            "1523                 1.0          2.2 and up  \n",
            "4587               9.5.0          4.4 and up  \n",
            "3820  Varies with device  Varies with device  \n",
            "2310              3.27.3          4.1 and up  \n",
            "3736               5.2.0          4.4 and up  \n",
            "7229              3.15.1          5.0 and up  \n",
            "3354  Varies with device  Varies with device  \n",
            "2808  Varies with device  Varies with device  \n",
            "3454  Varies with device  Varies with device  \n",
            "2655              4.20.5          4.1 and up  \n",
            "2544  Varies with device  Varies with device  \n",
            "3953               4.0.0        4.0.3 and up  \n",
            "3234  Varies with device  Varies with device  \n",
            "3117  Varies with device  Varies with device  \n",
            "3665  Varies with device  Varies with device  \n",
            "3626  Varies with device  Varies with device  \n"
          ]
        }
      ]
    },
    {
      "cell_type": "code",
      "source": [
        "sns.heatmap(data_b.isnull(),yticklabels=False,cbar=False,cmap='viridis')\n",
        "plt.show()"
      ],
      "metadata": {
        "colab": {
          "base_uri": "https://localhost:8080/",
          "height": 576
        },
        "id": "OJesOeHgbv_r",
        "outputId": "02c10970-c830-4f17-9e44-799fc17ea947"
      },
      "execution_count": null,
      "outputs": [
        {
          "output_type": "display_data",
          "data": {
            "text/plain": [
              "<Figure size 640x480 with 1 Axes>"
            ],
            "image/png": "[encoded data removed]"
          },
          "metadata": {}
        }
      ]
    },
    {
      "cell_type": "code",
      "source": [
        "data_b=data_b.dropna()"
      ],
      "metadata": {
        "id": "gDjjaf2RfBHA"
      },
      "execution_count": null,
      "outputs": []
    },
    {
      "cell_type": "code",
      "source": [
        "sns.heatmap(data_b.isnull(),yticklabels=False,cbar=False,cmap='viridis')\n",
        "plt.show()"
      ],
      "metadata": {
        "colab": {
          "base_uri": "https://localhost:8080/",
          "height": 576
        },
        "id": "XqV7VZRHfWYR",
        "outputId": "da9c1b70-676f-4d8e-9640-a3a2ad3586e6"
      },
      "execution_count": null,
      "outputs": [
        {
          "output_type": "display_data",
          "data": {
            "text/plain": [
              "<Figure size 640x480 with 1 Axes>"
            ],
            "image/png": "[encoded data removed]"
          },
          "metadata": {}
        }
      ]
    },
    {
      "cell_type": "code",
      "source": [
        "data_b['Sentiment'].unique()"
      ],
      "metadata": {
        "colab": {
          "base_uri": "https://localhost:8080/"
        },
        "id": "Yh_leW5sgokw",
        "outputId": "5a64ad5f-b318-4202-8b96-14666d9379be"
      },
      "execution_count": null,
      "outputs": [
        {
          "output_type": "execute_result",
          "data": {
            "text/plain": [
              "array(['Positive', 'Neutral', 'Negative'], dtype=object)"
            ]
          },
          "metadata": {},
          "execution_count": 41
        }
      ]
    },
    {
      "cell_type": "code",
      "source": [
        "data_b['Sentiment']=data_b['Sentiment'].replace({\n",
        "    'Positive':1,\n",
        "    'Negative':0,\n",
        "    'Neutral':2\n",
        "})"
      ],
      "metadata": {
        "colab": {
          "base_uri": "https://localhost:8080/"
        },
        "id": "e-FgSYQChlvD",
        "outputId": "858bbd7c-37b8-4f74-f51b-bfa4b54556cd"
      },
      "execution_count": null,
      "outputs": [
        {
          "output_type": "stream",
          "name": "stderr",
          "text": [
            "/tmp/ipython-input-43-2683030556.py:1: FutureWarning: Downcasting behavior in `replace` is deprecated and will be removed in a future version. To retain the old behavior, explicitly call `result.infer_objects(copy=False)`. To opt-in to the future behavior, set `pd.set_option('future.no_silent_downcasting', True)`\n",
            "  data_b['Sentiment']=data_b['Sentiment'].replace({\n"
          ]
        }
      ]
    },
    {
      "cell_type": "code",
      "source": [
        "data_b.info()"
      ],
      "metadata": {
        "colab": {
          "base_uri": "https://localhost:8080/"
        },
        "id": "3PNJ0pwGiHuj",
        "outputId": "1092b366-d1fc-4605-cd17-3c5fd44899ed"
      },
      "execution_count": null,
      "outputs": [
        {
          "output_type": "stream",
          "name": "stdout",
          "text": [
            "<class 'pandas.core.frame.DataFrame'>\n",
            "Index: 10944 entries, 0 to 17153\n",
            "Data columns (total 5 columns):\n",
            " #   Column                  Non-Null Count  Dtype  \n",
            "---  ------                  --------------  -----  \n",
            " 0   App                     10944 non-null  object \n",
            " 1   Translated_Review       10944 non-null  object \n",
            " 2   Sentiment               10944 non-null  int64  \n",
            " 3   Sentiment_Polarity      10944 non-null  float64\n",
            " 4   Sentiment_Subjectivity  10944 non-null  float64\n",
            "dtypes: float64(2), int64(1), object(2)\n",
            "memory usage: 513.0+ KB\n"
          ]
        }
      ]
    },
    {
      "cell_type": "code",
      "source": [
        "average=data_b.groupby('App')['Sentiment'].mean()\n",
        "average.sort_values(ascending=False,inplace=True)\n",
        "print(average)"
      ],
      "metadata": {
        "colab": {
          "base_uri": "https://localhost:8080/"
        },
        "id": "d6j8BetJiP9R",
        "outputId": "20ba8f64-7fba-4f06-cd72-c208da026f61"
      },
      "execution_count": null,
      "outputs": [
        {
          "output_type": "stream",
          "name": "stdout",
          "text": [
            "App\n",
            "AdWords Express                                       1.520000\n",
            "ASUS Quick Memo                                       1.500000\n",
            "BeautyPlus - Easy Photo Editor & Selfie Camera        1.500000\n",
            "Baby Tiger Care - My Cute Virtual Pet Friend          1.444444\n",
            "591房屋交易-租屋、中古屋、新建案、實價登錄、別墅透天、公寓套房、捷運、買房賣房行情、房價房貸查詢    1.400000\n",
            "                                                        ...   \n",
            "Blossom Blast Saga                                    0.472222\n",
            "Angry Birds Classic                                   0.468864\n",
            "AppLock                                               0.461538\n",
            "Be A Legend: Soccer                                   0.459184\n",
            "Angry Birds Rio                                       0.435897\n",
            "Name: Sentiment, Length: 257, dtype: float64\n"
          ]
        }
      ]
    },
    {
      "cell_type": "code",
      "source": [
        "result=average[average>1].index.tolist()\n",
        "print(result)"
      ],
      "metadata": {
        "colab": {
          "base_uri": "https://localhost:8080/"
        },
        "id": "-IeuvqVBi4Iz",
        "outputId": "fa03ff78-d168-441c-954e-9846ec734434"
      },
      "execution_count": null,
      "outputs": [
        {
          "output_type": "stream",
          "name": "stdout",
          "text": [
            "['AdWords Express', 'ASUS Quick Memo', 'BeautyPlus - Easy Photo Editor & Selfie Camera', 'Baby Tiger Care - My Cute Virtual Pet Friend', '591房屋交易-租屋、中古屋、新建案、實價登錄、別墅透天、公寓套房、捷運、買房賣房行情、房價房貸查詢', 'Best Wallpapers Backgrounds(100,000+ 4K HD)', 'Baby Panda Learns Shapes', 'AT&T Smart Wi-Fi', 'Allegiant', 'Alfred Home Security Camera', '365Scores - Live Scores', 'BluTV', 'Apartments & Rentals - Zillow', 'A Word A Day', 'Blood Pressure(BP) Diary', 'Atlan3D Navigation: Korea navigator', 'Blogaway for Android (Blogger)', 'Blood Donor', 'BaBe Lite - Baca Berita Hemat Kuota', '2ndLine - Second Phone Number', '591房屋交易-香港', 'Bagan - Myanmar Keyboard', 'Birds Sounds Ringtones & Wallpapers', 'Barbie Life™', 'ASUS Calling Screen', 'AirBrush: Easy Photo Editor', 'BaBe - Baca Berita', 'All Language Translator Free', 'Backgrounds HD (Wallpapers)', 'Acorns - Invest Spare Change', 'BeSoccer - Soccer Live Score', 'Baby Panda Musical Genius', 'Baca- Berita Terbaru, Informasi, Gosip dan Politik', '104 找工作 - 找工作 找打工 找兼職 履歷健檢 履歷診療室', 'Animated Photo Editor', 'ASUS Cover for ZenFone 2', 'Babbel – Learn Languages', 'Alarm Clock', 'Barcode Scanner', 'BEST CAR SOUNDS', 'BELONG Beating Cancer Together', '2018Emoji Keyboard 😂 Emoticons Lite -sticker&gif', 'Bike Computer - GPS Cycling Tracker', \"Bloglovin'\", 'All Maths Formulas', 'BaBe+ - Berita Indonesia', 'Alarm Clock Free', 'All Video Downloader 2018', 'Beautiful Design Birthday Cake', 'ABC Kids - Tracing & Phonics', 'Binaural Beats Therapy', '2GIS: directory & navigator', 'Bloomberg: Market & Financial News', 'BLK - Swipe. Match. Chat.', 'APE Weather ( Live Forecast)', 'Add Text To Photo', 'All Football GO- Live Score, Games', 'A+ Mobile', 'Bangla Newspaper – Prothom Alo', '2RedBeans', 'Booking.com Travel Deals', 'Banco Itaú', 'Banco do Brasil', 'Baritastic - Bariatric Tracker', 'BIG Launcher', 'Blur Image Background', 'ARY NEWS', 'ACE Elite', 'Apple Daily 蘋果動新聞', 'Associated Credit Union Mobile', 'BET NOW - Watch Shows', 'All Events in City', 'AlReader -any text book reader', 'Bathroom Decorating Ideas', 'Binaural Beats Meditation', 'Bloomberg Professional', 'A+ Gallery - Photos & Videos', 'BestCam Selfie-selfie, beauty camera, photo editor', 'Badoo - Free Chat & Dating App', 'Asteroids 3D live wallpaper', '10 Best Foods for You', 'AOL - News, Mail & Video', 'Big Days - Events Countdown', 'Birdays – Birthday reminder', 'A&E - Watch Full Episodes of TV Shows', '95Live -SG#1 Live Streaming App', '11st', '1800 Contacts - Lens Store', 'Animal Planet GO', 'BZWBK24 mobile', 'Azar', 'Accounting App - Zoho Books', 'Black People Meet Singles Date', 'Archos File Manager', 'ASOS', 'ARY NEWS URDU', 'Amazon FreeTime – Kids’ Videos, Books, & TV shows', 'BBM - Free Calls & Messages', 'Agoda – Hotel Booking Deals', 'ABC Preschool Free', 'AutoScout24 Switzerland – Find your new car', 'Ancestry', 'Apartment List: Housing, Apt, and Property Rentals', 'Bible', 'Aprender inglés con Wlingua']\n"
          ]
        }
      ]
    },
    {
      "cell_type": "code",
      "source": [
        "print(len(result))"
      ],
      "metadata": {
        "colab": {
          "base_uri": "https://localhost:8080/"
        },
        "id": "_FhEalDDm0dq",
        "outputId": "aeff8c15-f2e1-44e5-c505-238ee65d5326"
      },
      "execution_count": null,
      "outputs": [
        {
          "output_type": "stream",
          "name": "stdout",
          "text": [
            "105\n"
          ]
        }
      ]
    },
    {
      "cell_type": "code",
      "source": [
        "print(data_a.loc[data_a['App'].isin(result)])"
      ],
      "metadata": {
        "colab": {
          "base_uri": "https://localhost:8080/"
        },
        "id": "DhPARFNXn9cZ",
        "outputId": "1a9e5b38-4c2e-45b0-ad29-7eeb5713d8f3"
      },
      "execution_count": null,
      "outputs": [
        {
          "output_type": "stream",
          "name": "stdout",
          "text": [
            "                                                    App             Category  \\\n",
            "27                                Animated Photo Editor       ART_AND_DESIGN   \n",
            "86                                      BEST CAR SOUNDS    AUTO_AND_VEHICLES   \n",
            "88          AutoScout24 Switzerland – Find your new car    AUTO_AND_VEHICLES   \n",
            "101   BestCam Selfie-selfie, beauty camera, photo ed...               BEAUTY   \n",
            "153                      AlReader -any text book reader  BOOKS_AND_REFERENCE   \n",
            "...                                                 ...                  ...   \n",
            "6546                     Badoo - Free Chat & Dating App               SOCIAL   \n",
            "6590                           Blood Pressure(BP) Diary              MEDICAL   \n",
            "7055                                     BZWBK24 mobile              FINANCE   \n",
            "8297                           Babbel – Learn Languages               FAMILY   \n",
            "9862                       A+ Gallery - Photos & Videos          PHOTOGRAPHY   \n",
            "\n",
            "      Rating  Reviews                Size   Installs  Type  Price  \\\n",
            "27         4      203                6.1M     100000  Free    0.0   \n",
            "86         4      348                 38M     100000  Free    0.0   \n",
            "88         4    13372  Varies with device    1000000  Free    0.0   \n",
            "101        3     1739                 21M     500000  Free    0.0   \n",
            "153        4    90468                5.9M    5000000  Free    0.0   \n",
            "...      ...      ...                 ...        ...   ...    ...   \n",
            "6546       4  3781467  Varies with device  100000000  Free    0.0   \n",
            "6590       3     3596                8.4M    1000000  Free    0.0   \n",
            "7055       4    64983                 39M    1000000  Free    0.0   \n",
            "8297       4   267787                 21M   10000000  Free    0.0   \n",
            "9862       4   223941  Varies with device   10000000  Free    0.0   \n",
            "\n",
            "     Content Rating             Genres    Last Updated         Current Ver  \\\n",
            "27         Everyone       Art & Design  March 21, 2018                1.03   \n",
            "86         Everyone    Auto & Vehicles   July 29, 2018               1.0.3   \n",
            "88         Everyone    Auto & Vehicles  August 3, 2018  Varies with device   \n",
            "101        Everyone             Beauty   July 12, 2018               1.0.6   \n",
            "153        Everyone  Books & Reference    May 27, 2018         1.911805270   \n",
            "...             ...                ...             ...                 ...   \n",
            "6546     Mature 17+             Social  August 2, 2018  Varies with device   \n",
            "6590       Everyone            Medical   July 18, 2018               4.0.9   \n",
            "7055       Everyone            Finance   June 18, 2018               5.0.1   \n",
            "8297       Everyone          Education   July 30, 2018              20.7.2   \n",
            "9862       Everyone        Photography  August 6, 2018  Varies with device   \n",
            "\n",
            "             Android Ver  \n",
            "27          4.0.3 and up  \n",
            "86            2.3 and up  \n",
            "88    Varies with device  \n",
            "101         4.0.3 and up  \n",
            "153           2.3 and up  \n",
            "...                  ...  \n",
            "6546  Varies with device  \n",
            "6590        4.0.3 and up  \n",
            "7055          4.1 and up  \n",
            "8297          4.4 and up  \n",
            "9862  Varies with device  \n",
            "\n",
            "[123 rows x 13 columns]\n"
          ]
        }
      ]
    },
    {
      "cell_type": "code",
      "source": [],
      "metadata": {
        "id": "-rfoAxdYqVM2"
      },
      "execution_count": null,
      "outputs": []
    }
  ]
}